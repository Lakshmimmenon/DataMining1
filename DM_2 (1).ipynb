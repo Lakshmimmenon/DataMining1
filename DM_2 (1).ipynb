{
 "cells": [
  {
   "cell_type": "markdown",
   "metadata": {},
   "source": []
  },
  {
   "cell_type": "code",
   "execution_count": null,
   "metadata": {},
   "outputs": [],
   "source": [
    "import pandas as pd\n",
    "import numpy as np\n",
    "import seaborn as sns"
   ]
  },
  {
   "cell_type": "code",
   "execution_count": 2,
   "metadata": {},
   "outputs": [],
   "source": [
    "# data files location\n",
    "fileloc='D:/Lakshmi Mohandas/Bits/ss/Sem2/DM/Assignment/data/'\n",
    "\n",
    "#from google.colab import drive\n",
    "#drive.mount('/content/drive')"
   ]
  },
  {
   "cell_type": "code",
   "execution_count": 3,
   "metadata": {},
   "outputs": [],
   "source": [
    "def normalizedata(X_train):\n",
    "    scaler = MinMaxScaler()\n",
    "    scaler.fit(X_train)\n",
    "    X_train = scaler.transform(X_train)\n",
    "    return X_train"
   ]
  },
  {
   "cell_type": "code",
   "execution_count": 4,
   "metadata": {},
   "outputs": [],
   "source": [
    "from scipy import stats"
   ]
  },
  {
   "cell_type": "markdown",
   "metadata": {},
   "source": [
    "#### 1. Apply Rank-Sum test and find important features for every project"
   ]
  },
  {
   "cell_type": "code",
   "execution_count": 5,
   "metadata": {},
   "outputs": [
    {
     "name": "stdout",
     "output_type": "stream",
     "text": [
      "(array([ 0,  3,  4,  5,  6,  7,  8, 10, 14, 17, 18, 19, 20], dtype=int64),)\n",
      "(array([ 3,  7, 20], dtype=int64),)\n",
      "(array([ 0,  1,  3,  4,  5,  7,  8, 10, 12, 14, 15, 17, 18, 20], dtype=int64),)\n",
      "(array([ 0,  3,  4,  5,  7,  8, 10, 11, 12, 13, 14, 17, 18, 19, 20], dtype=int64),)\n",
      "(array([ 0,  3,  4,  5,  6,  7,  8, 10, 11, 12, 14, 15, 16, 17, 18, 19, 20], dtype=int64),)\n",
      "(array([ 0,  3,  4,  5,  7,  8, 10, 12, 14, 17, 20], dtype=int64),)\n",
      "(array([ 0,  3,  4,  5,  6,  7, 10, 12, 14, 17, 18, 19, 20], dtype=int64),)\n",
      "(array([ 0,  3,  4,  5,  8, 14, 19, 20], dtype=int64),)\n",
      "(array([ 0,  3,  4,  5,  6,  8, 10, 18, 19, 20], dtype=int64),)\n",
      "(array([ 0,  1,  3,  4,  5,  6,  7,  8, 10, 12, 14, 15, 16, 17, 18, 19, 20], dtype=int64),)\n",
      "(array([ 0,  2,  3,  4,  5,  6,  7,  8,  9, 10, 11, 12, 14, 17, 18, 19, 20], dtype=int64),)\n",
      "(array([ 0,  4,  5,  7,  8, 10, 17, 19, 20], dtype=int64),)\n",
      "(array([ 0,  3,  4,  6,  7, 10, 20], dtype=int64),)\n",
      "(array([ 0,  3,  4,  5,  7,  8, 10, 14, 17, 20], dtype=int64),)\n",
      "(array([ 0,  3,  4,  5, 10, 14, 17, 18, 19, 20], dtype=int64),)\n",
      "(array([ 0,  3,  4,  5,  7,  8, 10, 11, 12, 14, 17, 18, 19, 20], dtype=int64),)\n",
      "(array([ 0,  1,  3,  4,  5,  6,  7,  8, 10, 11, 12, 13, 14, 15, 16, 17, 18, 19, 20], dtype=int64),)\n",
      "(array([ 0,  3,  4,  5,  6,  7,  8,  9, 10, 11, 12, 14, 17, 18, 19, 20], dtype=int64),)\n",
      "(array([ 0,  3,  4,  5,  6,  7,  8, 10, 11, 12, 14, 17, 18, 19, 20], dtype=int64),)\n",
      "(array([ 0,  3,  4,  5,  6,  7,  8, 10, 11, 12, 14, 17, 18, 19, 20], dtype=int64),)\n",
      "(array([ 7, 20], dtype=int64),)\n",
      "(array([ 1,  6, 12, 17, 20], dtype=int64),)\n",
      "(array([ 0,  3,  4,  5,  6,  7,  8, 10, 11, 14, 17, 18, 19, 20], dtype=int64),)\n",
      "(array([ 0,  3,  4,  5,  7,  8, 10, 11, 12, 14, 18, 19, 20], dtype=int64),)\n",
      "(array([ 3,  6,  8, 11, 20], dtype=int64),)\n",
      "(array([ 0,  3,  4,  7,  8, 10, 11, 12, 14, 16, 17, 19, 20], dtype=int64),)\n",
      "(array([ 0,  3,  4,  5,  6,  7,  8,  9, 10, 11, 14, 18, 20], dtype=int64),)\n",
      "(array([ 0,  1,  3,  4,  5,  6,  7,  8,  9, 10, 11, 14, 15, 16, 17, 18, 19, 20], dtype=int64),)\n",
      "(array([ 4,  9, 10, 17, 20], dtype=int64),)\n",
      "(array([ 0,  1,  3,  4,  5,  6,  7,  8, 10, 14, 17, 20], dtype=int64),)\n",
      "(array([ 0,  1,  3,  4,  5,  6,  7,  9, 10, 11, 14, 17, 18, 19, 20], dtype=int64),)\n",
      "(array([ 1,  3,  4,  5,  6,  7,  8,  9, 10, 11, 13, 14, 15, 16, 17, 18, 19, 20], dtype=int64),)\n",
      "(array([ 0,  1,  3,  4,  5,  7,  8, 10, 11, 13, 14, 17, 18, 19, 20], dtype=int64),)\n",
      "(array([ 0,  1,  3,  4,  5,  6,  7,  8,  9, 10, 11, 13, 14, 15, 16, 17, 19, 20], dtype=int64),)\n",
      "(array([ 1,  3,  4,  5,  6,  7,  8,  9, 10, 13, 14, 15, 17, 18, 19, 20], dtype=int64),)\n",
      "(array([ 0,  3,  4,  5,  7,  8, 10, 11, 12, 14, 15, 16, 17, 18, 19, 20], dtype=int64),)\n",
      "(array([ 1,  7,  9, 13, 14, 15, 16, 17, 20], dtype=int64),)\n",
      "(array([ 0,  3,  4,  5,  6,  8, 10, 19, 20], dtype=int64),)\n",
      "(array([ 0,  4,  9, 10, 12, 14, 18, 20], dtype=int64),)\n",
      "(array([ 0,  3,  4,  7,  8, 10, 20], dtype=int64),)\n",
      "(array([ 0,  3,  4,  5,  7,  8, 10, 14, 17, 18, 19, 20], dtype=int64),)\n",
      "(array([ 0,  1,  3,  4,  5,  7, 10, 11, 12, 13, 14, 17, 18, 19, 20], dtype=int64),)\n",
      "(array([ 0,  3,  4,  5,  6,  7,  8,  9, 10, 11, 12, 14, 17, 18, 19, 20], dtype=int64),)\n",
      "(array([ 0,  3,  4,  5,  6,  7, 10, 20], dtype=int64),)\n",
      "(array([ 0,  1,  6,  7,  8, 13, 17, 20], dtype=int64),)\n",
      "(array([ 0,  4,  5,  7, 10, 14, 17, 18, 20], dtype=int64),)\n",
      "(array([ 0,  3,  4,  5,  6,  8, 10, 11, 12, 14, 17, 18, 19, 20], dtype=int64),)\n",
      "(array([ 0,  3,  4,  7,  8,  9, 10, 11, 12, 13, 14, 17, 18, 19, 20], dtype=int64),)\n",
      "(array([ 0,  3,  4,  5,  7,  8, 10, 12, 13, 14, 17, 19, 20], dtype=int64),)\n",
      "(array([ 4, 10, 12, 17, 20], dtype=int64),)\n",
      "(array([ 0,  3,  4,  5,  6,  7, 10, 14, 20], dtype=int64),)\n",
      "(array([ 2,  7, 20], dtype=int64),)\n",
      "(array([ 2,  3,  4,  6,  7,  9, 10, 11, 12, 14, 15, 16, 17, 18, 19, 20], dtype=int64),)\n",
      "(array([ 0,  1,  3,  4,  6,  7,  9, 10, 11, 12, 13, 14, 15, 16, 17, 18, 20], dtype=int64),)\n",
      "(array([ 0,  3,  6,  8, 14, 17, 20], dtype=int64),)\n",
      "(array([ 0,  1,  3,  4,  5,  6,  7, 10, 12, 14, 17, 20], dtype=int64),)\n"
     ]
    }
   ],
   "source": [
    "for j in range(1,57):\n",
    "    fname=fileloc+str(j)+'.csv'\n",
    "    data=np.genfromtxt(fname, delimiter=',')\n",
    "    p=np.zeros((np.shape(data)[1]))\n",
    "    bugs=data[:,-1]\n",
    "    ino=np.where(bugs==0)\n",
    "    in1=np.where(bugs==1)\n",
    "    for i in range(0,np.shape(data)[1]-1):\n",
    "        f=data[:,i]\n",
    "        f0=f[ino[0]]\n",
    "        f1=f[in1[0]]\n",
    "        a=stats.ranksums(f0,f1)\n",
    "        p[i]=a.pvalue\n",
    "\n",
    "    in1=np.where(p<=0.05)\n",
    "    datan=data[:,in1[0]]\n",
    "    fname=fileloc+str(56+j)+'.csv'\n",
    "    np.savetxt(fname, datan, delimiter=',', fmt='%f')\n",
    "    \n",
    "    np.set_printoptions(linewidth=np.inf)\n",
    "    print(in1)\n",
    "  "
   ]
  },
  {
   "cell_type": "markdown",
   "metadata": {},
   "source": [
    "#### 2. Apply Decision tree, Naïve Bayes, K-NN, and Bagging Classifier on above data and original data"
   ]
  },
  {
   "cell_type": "code",
   "execution_count": 6,
   "metadata": {},
   "outputs": [],
   "source": [
    "from sklearn.tree import DecisionTreeClassifier\n",
    "from sklearn.ensemble import BaggingClassifier\n",
    "from sklearn.neighbors import KNeighborsClassifier\n",
    "from sklearn.naive_bayes import MultinomialNB\n",
    "from sklearn.naive_bayes import BernoulliNB\n",
    "from sklearn.naive_bayes import GaussianNB\n",
    "from sklearn.ensemble import AdaBoostClassifier"
   ]
  },
  {
   "cell_type": "code",
   "execution_count": 7,
   "metadata": {},
   "outputs": [],
   "source": [
    "def model1(trdata, tract, tsdata):\n",
    "    model=DecisionTreeClassifier(criterion='gini')\n",
    "    model.fit(trdata, tract)\n",
    "    ypred=model.predict(tsdata)\n",
    "    return ypred\n",
    "     \n",
    "def model2(trdata, tract, tsdata):\n",
    "    model=DecisionTreeClassifier(criterion='entropy')\n",
    "    model.fit(trdata, tract)\n",
    "    ypred=model.predict(tsdata)\n",
    "    return ypred\n",
    "\n",
    "def model3(trdata, tract, tsdata):\n",
    "    model=BernoulliNB()\n",
    "    model.fit(trdata, tract)\n",
    "    ypred=model.predict(tsdata)\n",
    "    return ypred\n",
    "\n",
    "def model4(trdata, tract, tsdata):\n",
    "    model=GaussianNB( )\n",
    "    model.fit(trdata, tract)\n",
    "    ypred=model.predict(tsdata)\n",
    "    return ypred\n",
    "     \n",
    "def model5(trdata, tract, tsdata):\n",
    "    model=KNeighborsClassifier()\n",
    "    model.fit(trdata, tract)\n",
    "    ypred=model.predict(tsdata)\n",
    "    return ypred\n",
    "     \n",
    "def model6(trdata, tract, tsdata):\n",
    "    model=BaggingClassifier(KNeighborsClassifier(),n_estimators=10).fit(trdata, tract)\n",
    "    model.fit(trdata, tract)\n",
    "    ypred=model.predict(tsdata)\n",
    "    return ypred\n",
    "     \n",
    "def model7(trdata, tract, tsdata):\n",
    "    model=BaggingClassifier(DecisionTreeClassifier(),n_estimators=10).fit(trdata, tract)\n",
    "    model.fit(trdata, tract)\n",
    "    ypred=model.predict(tsdata)\n",
    "    return ypred\n",
    "\n",
    "def model8(trdata, tract, tsdata):\n",
    "    model=AdaBoostClassifier(n_estimators=10).fit(trdata, tract)\n",
    "    model.fit(trdata, tract)\n",
    "    ypred=model.predict(tsdata)\n",
    "    return ypred\n",
    "\n",
    "def model9(trdata, tract, tsdata):\n",
    "    model=MultinomialNB()\n",
    "    model.fit(trdata, tract)\n",
    "    ypred=model.predict(tsdata)\n",
    "    return ypred"
   ]
  },
  {
   "cell_type": "markdown",
   "metadata": {},
   "source": [
    "#### 3. Validate your model using 10-fold cross validation and compute the value of accuracy and F-Measure"
   ]
  },
  {
   "cell_type": "code",
   "execution_count": 8,
   "metadata": {},
   "outputs": [],
   "source": [
    "from sklearn.metrics import (\n",
    "    f1_score, precision_score, recall_score, accuracy_score\n",
    "    )"
   ]
  },
  {
   "cell_type": "code",
   "execution_count": 9,
   "metadata": {},
   "outputs": [],
   "source": [
    "from sklearn.preprocessing import MinMaxScaler\n",
    "from sklearn.model_selection import KFold\n",
    "\n",
    "import warnings\n",
    "warnings.filterwarnings('ignore') \n",
    "\n",
    "# KFOLD\n",
    "\n",
    "kf = KFold (10)\n",
    "acv=np.zeros((112,9))\n",
    "fm=np.zeros((112,9))\n",
    "\n",
    "for j in range(1,56*2+1):\n",
    "    fname=fileloc+str(j)+'.csv'\n",
    "    data=np.genfromtxt(fname, delimiter=',')\n",
    "    data[:,0:-1]=normalizedata(data[:,0:-1])\n",
    "    ypred=np.zeros((np. shape(data)[0],9))\n",
    "    for tr_in, ts_in in kf.split(data):\n",
    "        trdata=data[tr_in, 0:-1]\n",
    "        tract=data[tr_in, -1]\n",
    "        tsdata=data[ts_in, 0:-1]\n",
    "        tsact=data[ts_in, -1]\n",
    "        ypred[ts_in,0]=model1(trdata, tract, tsdata)\n",
    "        ypred[ts_in,1]=model2(trdata, tract, tsdata)\n",
    "        ypred[ts_in,2]=model3(trdata, tract, tsdata)\n",
    "        ypred[ts_in,3]=model4(trdata, tract, tsdata)\n",
    "        ypred[ts_in,4]=model5(trdata, tract, tsdata)\n",
    "        ypred[ts_in,5]=model6(trdata, tract, tsdata)\n",
    "        ypred[ts_in,6]=model7(trdata, tract, tsdata)\n",
    "        ypred[ts_in,7]=model8(trdata, tract, tsdata)\n",
    "        ypred[ts_in,8]=model9(trdata, tract, tsdata)\n",
    "        \n",
    "# Accuracy and F1 measure\n",
    "    for i in range(0,9):\n",
    "        acv[j-1, i]=accuracy_score(data[:,-1], ypred[:,i])\n",
    "        fm[j-1, i]=f1_score(data[:,-1],ypred[:,i])"
   ]
  },
  {
   "cell_type": "code",
   "execution_count": 10,
   "metadata": {},
   "outputs": [
    {
     "name": "stdout",
     "output_type": "stream",
     "text": [
      "[[0.76       0.736      0.832      ... 0.832      0.816      0.832     ]\n",
      " [0.69662921 0.68539326 0.71348315 ... 0.76966292 0.71910112 0.7752809 ]\n",
      " [0.82935154 0.86006826 0.81911263 ... 0.90784983 0.88395904 0.88737201]\n",
      " ...\n",
      " [0.89795918 0.90986395 0.90816327 ... 0.92006803 0.92857143 0.78911565]\n",
      " [0.69135802 0.68518519 0.69135802 ... 0.70987654 0.7654321  0.61111111]\n",
      " [0.82758621 0.79310345 0.79310345 ... 0.79310345 0.86206897 0.86206897]]\n"
     ]
    }
   ],
   "source": [
    "print(acv)"
   ]
  },
  {
   "cell_type": "code",
   "execution_count": 11,
   "metadata": {},
   "outputs": [
    {
     "name": "stdout",
     "output_type": "stream",
     "text": [
      "            0         1         2         3         4         5         6         7         8\n",
      "0    0.760000  0.736000  0.832000  0.776000  0.856000  0.840000  0.832000  0.816000  0.832000\n",
      "1    0.696629  0.685393  0.713483  0.455056  0.685393  0.696629  0.769663  0.719101  0.775281\n",
      "2    0.829352  0.860068  0.819113  0.750853  0.863481  0.870307  0.907850  0.883959  0.887372\n",
      "3    0.746439  0.754986  0.726496  0.783476  0.777778  0.760684  0.769231  0.792023  0.760684\n",
      "4    0.773154  0.762416  0.766443  0.808054  0.802685  0.802685  0.795973  0.834899  0.808054\n",
      "5    0.756410  0.807692  0.824786  0.427350  0.833333  0.854701  0.850427  0.863248  0.867521\n",
      "6    0.790698  0.813953  0.651163  0.837209  0.883721  0.860465  0.906977  0.883721  0.790698\n",
      "7    0.914454  0.917404  0.946903  0.917404  0.955752  0.955752  0.952802  0.952802  0.955752\n",
      "8    0.628289  0.634868  0.572368  0.651316  0.629934  0.652961  0.682566  0.631579  0.654605\n",
      "9    0.770642  0.790138  0.777523  0.791284  0.826835  0.823394  0.838303  0.821101  0.834862\n",
      "10   0.725389  0.751295  0.784456  0.790674  0.781347  0.784456  0.804145  0.802073  0.809326\n",
      "11   0.921875  0.843750  0.890625  0.734375  0.921875  0.921875  0.906250  0.859375  0.921875\n",
      "12   0.925926  0.925926  0.777778  0.481481  0.851852  0.851852  0.814815  0.888889  0.851852\n",
      "13   0.657658  0.630631  0.630631  0.612613  0.603604  0.621622  0.648649  0.630631  0.621622\n",
      "14   0.871369  0.883817  0.912863  0.858921  0.933610  0.929461  0.929461  0.892116  0.933610\n",
      "15   0.829545  0.840909  0.880682  0.832386  0.889205  0.880682  0.883523  0.835227  0.894886\n",
      "16   0.727941  0.727941  0.746324  0.775735  0.753676  0.775735  0.779412  0.768382  0.731618\n",
      "17   0.748366  0.764706  0.738562  0.771242  0.813725  0.816993  0.800654  0.781046  0.767974\n",
      "18   0.724359  0.721154  0.669872  0.785256  0.801282  0.801282  0.804487  0.769231  0.772436\n",
      "19   0.809264  0.831063  0.847411  0.852861  0.874659  0.885559  0.858311  0.863760  0.877384\n",
      "20   0.961382  0.953252  0.973577  0.863821  0.969512  0.971545  0.965447  0.969512  0.971545\n",
      "21   0.777778  0.777778  0.666667  0.592593  0.777778  0.703704  0.777778  0.740741  0.814815\n",
      "22   0.681481  0.755556  0.711111  0.851852  0.748148  0.748148  0.740741  0.718519  0.762963\n",
      "23   0.733945  0.697248  0.678899  0.825688  0.807339  0.798165  0.761468  0.788991  0.743119\n",
      "24   0.868293  0.887805  0.897561  0.463415  0.917073  0.921951  0.907317  0.902439  0.921951\n",
      "25   0.625641  0.625641  0.625641  0.656410  0.651282  0.620513  0.651282  0.666667  0.682051\n",
      "26   0.562753  0.554656  0.611336  0.570850  0.595142  0.595142  0.599190  0.603239  0.619433\n",
      "27   0.623529  0.638235  0.605882  0.600000  0.667647  0.679412  0.705882  0.694118  0.632353\n",
      "28   0.740741  0.740741  0.555556  0.518519  0.703704  0.740741  0.740741  0.740741  0.777778\n",
      "29   0.878788  0.878788  0.666667  0.696970  0.787879  0.757576  0.787879  0.939394  0.757576\n",
      "30   0.817660  0.818093  0.809756  0.818039  0.836176  0.835905  0.825619  0.853067  0.852796\n",
      "31   0.872078  0.870036  0.867559  0.847701  0.871904  0.873164  0.879074  0.893065  0.894369\n",
      "32   0.844559  0.846992  0.884952  0.847576  0.868211  0.872883  0.842710  0.885536  0.884855\n",
      "33   0.876462  0.876807  0.842166  0.878527  0.876462  0.895274  0.874857  0.900551  0.904221\n",
      "34   0.780178  0.778417  0.847464  0.827149  0.809183  0.813293  0.770667  0.842414  0.847816\n",
      "35   0.890909  0.880303  0.866667  0.345455  0.875758  0.877273  0.877273  0.893939  0.898485\n",
      "36   0.846591  0.835227  0.715909  0.295455  0.880682  0.875000  0.892045  0.869318  0.875000\n",
      "37   0.777778  0.844444  0.711111  0.755556  0.822222  0.800000  0.822222  0.822222  0.822222\n",
      "38   0.666667  0.644444  0.666667  0.577778  0.755556  0.755556  0.711111  0.688889  0.777778\n",
      "39   0.750000  0.700000  0.600000  0.600000  0.700000  0.700000  0.800000  0.600000  0.700000\n",
      "40   0.802548  0.853503  0.891720  0.528662  0.891720  0.891720  0.872611  0.866242  0.891720\n",
      "41   0.734234  0.662162  0.693694  0.711712  0.711712  0.720721  0.756757  0.756757  0.752252\n",
      "42   0.718750  0.722656  0.699219  0.738281  0.750000  0.746094  0.746094  0.742188  0.687500\n",
      "43   0.830769  0.830769  0.861538  0.738462  0.861538  0.861538  0.815385  0.830769  0.876923\n",
      "44   0.480000  0.640000  0.640000  0.720000  0.640000  0.600000  0.640000  0.640000  0.680000\n",
      "45   0.761905  0.714286  0.619048  0.690476  0.809524  0.809524  0.714286  0.714286  0.809524\n",
      "46   0.867133  0.874126  0.893939  0.855478  0.906760  0.906760  0.904429  0.909091  0.911422\n",
      "47   0.705607  0.724299  0.677570  0.490654  0.724299  0.714953  0.752336  0.780374  0.705607\n",
      "48   0.733624  0.685590  0.641921  0.694323  0.724891  0.711790  0.720524  0.703057  0.711790\n",
      "49   0.692308  0.692308  0.538462  0.589744  0.538462  0.512821  0.692308  0.743590  0.641026\n",
      "50   0.833333  0.722222  0.777778  0.666667  0.888889  0.833333  0.777778  0.777778  0.777778\n",
      "51   0.802273  0.784091  0.825000  0.781818  0.829545  0.827273  0.845455  0.825000  0.834091\n",
      "52   0.823400  0.823400  0.770419  0.836645  0.871965  0.867550  0.865342  0.871965  0.845475\n",
      "53   0.913265  0.909864  0.909864  0.653061  0.872449  0.875850  0.916667  0.926871  0.812925\n",
      "54   0.666667  0.679012  0.672840  0.580247  0.697531  0.709877  0.753086  0.759259  0.604938\n",
      "55   0.827586  0.827586  0.793103  0.793103  0.793103  0.793103  0.758621  0.758621  0.758621\n",
      "56   0.760000  0.736000  0.832000  0.800000  0.808000  0.824000  0.792000  0.832000  0.840000\n",
      "57   0.724719  0.724719  0.775281  0.707865  0.735955  0.724719  0.696629  0.758427  0.775281\n",
      "58   0.832765  0.846416  0.887372  0.839590  0.877133  0.877133  0.901024  0.883959  0.890785\n",
      "59   0.752137  0.737892  0.732194  0.789174  0.792023  0.789174  0.792023  0.797721  0.760684\n",
      "60   0.755705  0.773154  0.750336  0.809396  0.816107  0.806711  0.808054  0.830872  0.804027\n",
      "61   0.786325  0.790598  0.884615  0.854701  0.854701  0.858974  0.850427  0.871795  0.880342\n",
      "62   0.813953  0.790698  0.813953  0.883721  0.883721  0.883721  0.883721  0.860465  0.790698\n",
      "63   0.923304  0.920354  0.946903  0.935103  0.958702  0.958702  0.946903  0.943953  0.961652\n",
      "64   0.605263  0.618421  0.644737  0.659539  0.641447  0.639803  0.633224  0.628289  0.644737\n",
      "65   0.750000  0.739679  0.784404  0.787844  0.823394  0.825688  0.836009  0.823394  0.833716\n",
      "66   0.726425  0.738860  0.784456  0.790674  0.782383  0.791710  0.789637  0.803109  0.808290\n",
      "67   0.921875  0.921875  0.921875  0.921875  0.906250  0.906250  0.906250  0.937500  0.921875\n",
      "68   0.851852  0.814815  0.851852  0.888889  0.851852  0.851852  0.888889  0.814815  0.851852\n",
      "69   0.621622  0.630631  0.576577  0.585586  0.702703  0.729730  0.711712  0.675676  0.630631\n",
      "70   0.879668  0.875519  0.933610  0.875519  0.929461  0.921162  0.917012  0.917012  0.937759\n",
      "71   0.835227  0.843750  0.880682  0.860795  0.903409  0.892045  0.886364  0.869318  0.892045\n",
      "72   0.705882  0.727941  0.750000  0.775735  0.764706  0.775735  0.761029  0.753676  0.698529\n",
      "73   0.748366  0.709150  0.725490  0.771242  0.803922  0.810458  0.803922  0.794118  0.758170\n",
      "74   0.705128  0.711538  0.727564  0.782051  0.814103  0.820513  0.775641  0.772436  0.769231\n",
      "75   0.833787  0.833787  0.869210  0.863760  0.869210  0.869210  0.861035  0.863760  0.877384\n",
      "76   0.971545  0.971545  0.977642  0.969512  0.977642  0.977642  0.969512  0.973577  0.977642\n",
      "77   0.814815  0.777778  0.777778  0.814815  0.925926  0.888889  0.814815  0.814815  0.777778\n",
      "78   0.696296  0.666667  0.777778  0.859259  0.807407  0.800000  0.777778  0.718519  0.748148\n",
      "79   0.697248  0.669725  0.770642  0.834862  0.825688  0.807339  0.788991  0.761468  0.733945\n",
      "80   0.868293  0.897561  0.912195  0.619512  0.931707  0.931707  0.902439  0.921951  0.921951\n",
      "81   0.594872  0.656410  0.651282  0.692308  0.671795  0.651282  0.646154  0.682051  0.646154\n",
      "82   0.582996  0.599190  0.599190  0.562753  0.603239  0.595142  0.623482  0.582996  0.647773\n",
      "83   0.626471  0.667647  0.623529  0.576471  0.655882  0.652941  0.708824  0.694118  0.644118\n",
      "84   0.740741  0.740741  0.666667  0.851852  0.666667  0.703704  0.777778  0.740741  0.777778\n",
      "85   0.909091  0.939394  0.727273  0.727273  0.787879  0.757576  0.848485  0.939394  0.727273\n",
      "86   0.818851  0.818526  0.811001  0.821017  0.832115  0.834064  0.822966  0.854150  0.852580\n",
      "87   0.871904  0.869384  0.869210  0.846963  0.873816  0.872990  0.883071  0.893065  0.894369\n",
      "88   0.846311  0.844267  0.884855  0.838914  0.868600  0.874927  0.841250  0.885050  0.884855\n",
      "89   0.876462  0.875660  0.869007  0.883918  0.876807  0.895159  0.876004  0.902042  0.903877\n",
      "90   0.779004  0.778300  0.847464  0.822687  0.804838  0.810357  0.770550  0.842179  0.847816\n",
      "91   0.881818  0.886364  0.865152  0.804545  0.880303  0.880303  0.877273  0.881818  0.900000\n",
      "92   0.840909  0.857955  0.715909  0.772727  0.886364  0.886364  0.869318  0.897727  0.846591\n",
      "93   0.822222  0.822222  0.755556  0.844444  0.844444  0.844444  0.800000  0.777778  0.800000\n",
      "94   0.688889  0.800000  0.755556  0.600000  0.644444  0.688889  0.688889  0.711111  0.777778\n",
      "95   0.750000  0.650000  0.650000  0.800000  0.750000  0.800000  0.750000  0.550000  0.600000\n",
      "96   0.834395  0.859873  0.878981  0.847134  0.898089  0.891720  0.904459  0.872611  0.898089\n",
      "97   0.729730  0.702703  0.689189  0.747748  0.738739  0.729730  0.783784  0.756757  0.752252\n",
      "98   0.679688  0.671875  0.667969  0.726562  0.714844  0.703125  0.742188  0.753906  0.699219\n",
      "99   0.800000  0.784615  0.861538  0.846154  0.846154  0.846154  0.846154  0.784615  0.861538\n",
      "100  0.560000  0.640000  0.680000  0.720000  0.600000  0.520000  0.680000  0.640000  0.720000\n",
      "101  0.809524  0.738095  0.690476  0.809524  0.738095  0.738095  0.738095  0.785714  0.714286\n",
      "102  0.869464  0.877622  0.910256  0.867133  0.904429  0.900932  0.905594  0.910256  0.912587\n",
      "103  0.710280  0.719626  0.635514  0.514019  0.742991  0.766355  0.761682  0.775701  0.724299\n",
      "104  0.668122  0.689956  0.659389  0.685590  0.689956  0.698690  0.720524  0.729258  0.694323\n",
      "105  0.692308  0.487179  0.666667  0.615385  0.487179  0.589744  0.512821  0.410256  0.358974\n",
      "106  0.666667  0.722222  0.722222  0.888889  0.777778  0.777778  0.833333  0.777778  0.722222\n",
      "107  0.854545  0.854545  0.845455  0.815909  0.695455  0.852273  0.843182  0.859091  0.838636\n",
      "108  0.805740  0.814570  0.779249  0.845475  0.869757  0.871965  0.865342  0.871965  0.852097\n",
      "109  0.897959  0.909864  0.908163  0.666667  0.874150  0.886054  0.920068  0.928571  0.789116\n",
      "110  0.691358  0.685185  0.691358  0.654321  0.765432  0.759259  0.709877  0.765432  0.611111\n",
      "111  0.827586  0.793103  0.793103  0.793103  0.862069  0.862069  0.793103  0.862069  0.862069\n"
     ]
    }
   ],
   "source": [
    "acv1 = pd.DataFrame(acv)\n",
    "\n",
    "with pd.option_context('display.max_rows', None, 'display.max_columns', None): \n",
    "    with pd.option_context('expand_frame_repr', False):\n",
    "        print(acv1)"
   ]
  },
  {
   "cell_type": "markdown",
   "metadata": {},
   "source": [
    "#### 4. Represent your results using Box-plot diagram and Hypothesis Testing"
   ]
  },
  {
   "cell_type": "code",
   "execution_count": 12,
   "metadata": {},
   "outputs": [],
   "source": [
    "p=np.zeros((9,9))\n",
    "for i in range(0,9):\n",
    "    for j in range(0,9):\n",
    "        a=stats.ranksums(acv[:,i], acv[:,j])\n",
    "        p[i,j]=a.pvalue"
   ]
  },
  {
   "cell_type": "code",
   "execution_count": 13,
   "metadata": {},
   "outputs": [
    {
     "name": "stdout",
     "output_type": "stream",
     "text": [
      "[[False False False False  True  True  True  True False]\n",
      " [False False False False  True  True  True  True False]\n",
      " [False False False False  True  True  True  True  True]\n",
      " [False False False False  True  True  True  True  True]\n",
      " [ True  True  True  True False False False False False]\n",
      " [ True  True  True  True False False False False False]\n",
      " [ True  True  True  True False False False False False]\n",
      " [ True  True  True  True False False False False False]\n",
      " [False False  True  True False False False False False]]\n"
     ]
    }
   ],
   "source": [
    "p1=p<=0.05\n",
    "print(p1)"
   ]
  },
  {
   "cell_type": "code",
   "execution_count": 14,
   "metadata": {},
   "outputs": [
    {
     "name": "stdout",
     "output_type": "stream",
     "text": [
      "0.11162659555120864\n"
     ]
    }
   ],
   "source": [
    "acvf=np.zeros((56*9,2))\n",
    "for i in range(0,2):\n",
    "    for j in range(0,56):\n",
    "        acvf[9*j:9*(j+1),i]=acv[56*i+j,:]\n",
    "\n",
    "a=stats.ranksums(acvf[:,0],acvf[:,1])\n",
    "print(a.pvalue)"
   ]
  },
  {
   "cell_type": "code",
   "execution_count": 31,
   "metadata": {},
   "outputs": [
    {
     "data": {
      "text/plain": [
       "Text(0.5,1,'Comparing Accuracy Values of multiple Classifiers')"
      ]
     },
     "execution_count": 31,
     "metadata": {},
     "output_type": "execute_result"
    },
    {
     "data": {
      "image/png": "[encoded data removed]",
      "text/plain": [
       "<matplotlib.figure.Figure at 0x1b8a0e96be0>"
      ]
     },
     "metadata": {},
     "output_type": "display_data"
    }
   ],
   "source": [
    "import matplotlib.pyplot as plt\n",
    "fig, ax = plt.subplots(figsize=(10, 5))\n",
    "ax.grid(color='black', axis='y', linestyle='-', linewidth=0.55, alpha=1)\n",
    "plt.boxplot(acv,vert=True, patch_artist=True)\n",
    "plt.xticks([1,2,3,4,5,6,7,8,9], ['DecisionTreeClassifier_gini', 'DecisionTreeClassifier_entropy','BernoulliNB','GaussianNB',\n",
    "                                 'KNeighborsClassifier', 'BaggingClassifier_KNeighbors','BaggingClassifier_DecisionTree', \n",
    "                                 'AdaBoostClassifier', 'MultinomialNB'],rotation='vertical')\n",
    "plt.ylabel('Accuracy Value', fontsize=10)\n",
    "plt.title('Comparing Accuracy Values of multiple Classifiers',fontsize=20)"
   ]
  },
  {
   "cell_type": "markdown",
   "metadata": {},
   "source": [
    "### Observation 1:\n",
    "##### Comparing all models,'K Neighbour Classifier', 'Bagging Classifier - KNeighbor', 'AdaBoost Classifier' Models are giving the highest accuracy values for the predictions."
   ]
  },
  {
   "cell_type": "code",
   "execution_count": 32,
   "metadata": {},
   "outputs": [
    {
     "data": {
      "text/plain": [
       "Text(0.5,1,'Comparing All features and Significant features')"
      ]
     },
     "execution_count": 32,
     "metadata": {},
     "output_type": "execute_result"
    },
    {
     "data": {
      "image/png": "[encoded data removed]",
      "text/plain": [
       "<matplotlib.figure.Figure at 0x1b8a13da780>"
      ]
     },
     "metadata": {},
     "output_type": "display_data"
    }
   ],
   "source": [
    "fig, ax = plt.subplots(figsize=(10, 5))\n",
    "ax.grid(color='black', axis='y', linestyle='-', linewidth=0.25, alpha=1)\n",
    "plt.boxplot(acvf,vert=True, patch_artist=True)\n",
    "plt.xticks([1,2], ['All_features', 'Significant_features'])\n",
    "plt.ylabel('Accuracy Value', fontsize=10)\n",
    "plt.title('Comparing All features and Significant features',fontsize=20)"
   ]
  },
  {
   "cell_type": "markdown",
   "metadata": {},
   "source": [
    "### Observation 2: \n",
    "##### The Accuracy for the Models trained on Significant Features is better than the Models trained on All Features"
   ]
  },
  {
   "cell_type": "code",
   "execution_count": null,
   "metadata": {},
   "outputs": [],
   "source": []
  }
 ],
 "metadata": {
  "kernelspec": {
   "display_name": "Python 3",
   "language": "python",
   "name": "python3"
  },
  "language_info": {
   "codemirror_mode": {
    "name": "ipython",
    "version": 3
   },
   "file_extension": ".py",
   "mimetype": "text/x-python",
   "name": "python",
   "nbconvert_exporter": "python",
   "pygments_lexer": "ipython3",
   "version": "3.6.4"
  }
 },
 "nbformat": 4,
 "nbformat_minor": 5
}
